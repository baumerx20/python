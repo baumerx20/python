{
 "cells": [
  {
   "cell_type": "code",
   "execution_count": 1,
   "metadata": {},
   "outputs": [],
   "source": [
    "import json\n",
    "import random\n",
    "from datetime import datetime, timedelta"
   ]
  },
  {
   "cell_type": "code",
   "execution_count": 2,
   "metadata": {},
   "outputs": [],
   "source": [
    "def generate_timestamp():\n",
    "    start_date = datetime(2024, 4, 10, 8, 0, 0)\n",
    "    end_date = datetime(2024, 4, 11, 8, 0, 0)\n",
    "    random_seconds = random.randint(0, int((end_date - start_date).total_seconds()))\n",
    "    return (start_date + timedelta(seconds=random_seconds)).isoformat()\n"
   ]
  },
  {
   "cell_type": "code",
   "execution_count": 3,
   "metadata": {},
   "outputs": [],
   "source": [
    "def generate_log_entry():\n",
    "    status_codes = [200, 200, 200, 404, 500]  # More likely to get 200\n",
    "    status_code = random.choice(status_codes)\n",
    "    if status_code == 500:\n",
    "        message = \"Internal Server Error\"\n",
    "    elif status_code == 404:\n",
    "        message = \"Not Found\"\n",
    "    else:\n",
    "        message = \"Success\"\n",
    "    return {\"timestamp\": generate_timestamp(), \"status_code\": status_code, \"message\": message}\n"
   ]
  },
  {
   "cell_type": "code",
   "execution_count": 4,
   "metadata": {},
   "outputs": [],
   "source": [
    "log_entries = [generate_log_entry() for _ in range(1000)]"
   ]
  },
  {
   "cell_type": "code",
   "execution_count": 5,
   "metadata": {},
   "outputs": [],
   "source": [
    "with open(\"webserver_log.json\", \"w\") as f:\n",
    "    json.dump(log_entries, f, indent=2)"
   ]
  },
  {
   "cell_type": "code",
   "execution_count": 6,
   "metadata": {},
   "outputs": [
    {
     "name": "stdout",
     "output_type": "stream",
     "text": [
      "Webserver log file created successfully.\n"
     ]
    }
   ],
   "source": [
    "print(\"Webserver log file created successfully.\")"
   ]
  }
 ],
 "metadata": {
  "kernelspec": {
   "display_name": ".venv",
   "language": "python",
   "name": "python3"
  },
  "language_info": {
   "codemirror_mode": {
    "name": "ipython",
    "version": 3
   },
   "file_extension": ".py",
   "mimetype": "text/x-python",
   "name": "python",
   "nbconvert_exporter": "python",
   "pygments_lexer": "ipython3",
   "version": "3.12.2"
  }
 },
 "nbformat": 4,
 "nbformat_minor": 2
}
